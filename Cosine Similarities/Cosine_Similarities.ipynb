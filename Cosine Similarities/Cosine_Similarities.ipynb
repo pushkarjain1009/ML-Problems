{
  "nbformat": 4,
  "nbformat_minor": 0,
  "metadata": {
    "colab": {
      "name": "Cosine_Similarities",
      "provenance": [],
      "authorship_tag": "ABX9TyPM/47LhNdPSt7qzlx0zUq9",
      "include_colab_link": true
    },
    "kernelspec": {
      "name": "python3",
      "display_name": "Python 3"
    }
  },
  "cells": [
    {
      "cell_type": "markdown",
      "metadata": {
        "id": "view-in-github",
        "colab_type": "text"
      },
      "source": [
        "<a href=\"https://colab.research.google.com/github/pushkarjain1009/Random-ML-Problems/blob/master/Cosine_Similarities.ipynb\" target=\"_parent\"><img src=\"https://colab.research.google.com/assets/colab-badge.svg\" alt=\"Open In Colab\"/></a>"
      ]
    },
    {
      "cell_type": "markdown",
      "metadata": {
        "id": "KCUJEnQHABcu"
      },
      "source": [
        "## Cosine Similarities Between Newspaper Articles\n"
      ]
    },
    {
      "cell_type": "code",
      "metadata": {
        "id": "44hF3zXuADrw"
      },
      "source": [
        "# For extraction of articles from Newspapers, Here I'm downloading a library \"Newspaper: Article scraping & curation\"\n",
        "\n",
        "!pip install newspaper3k"
      ],
      "execution_count": 1,
      "outputs": []
    },
    {
      "cell_type": "code",
      "metadata": {
        "id": "bd1WTITbAUE4"
      },
      "source": [
        "# Importing necessary modules\n",
        "\n",
        "import re\n",
        "import nltk\n",
        "import math\n",
        "import numpy as np\n",
        "import pandas as pd\n",
        "from newspaper import Article\n",
        "from nltk.corpus import stopwords\n",
        "from nltk.tokenize import word_tokenize\n",
        "from nltk.stem import WordNetLemmatizer \n",
        "from collections import Counter\n",
        "\n",
        "nltk.download('punkt')\n",
        "nltk.download('stopwords')\n",
        "nltk.download('wordnet')"
      ],
      "execution_count": null,
      "outputs": []
    },
    {
      "cell_type": "code",
      "metadata": {
        "id": "zee2YSvbAaC8"
      },
      "source": [
        "# Links for 10 different articles of newspaper the Times Of India\n",
        "\n",
        "Links = [\"https://timesofindia.indiatimes.com/home/education/news/iitians-use-deep-learning-techniques-to-digitally-restore-damaged-murals-of-ajanta-caves/articleshow/79022946.cms\",\n",
        "         \"https://timesofindia.indiatimes.com/home/science/can-ai-help-better-predict-mouth-cancer-risk-uk-scientists-think-so/articleshow/79058120.cms\",\n",
        "         \"https://timesofindia.indiatimes.com/business/india-business/infosys-launches-set-of-services-to-accelerate-cloud-journey/articleshow/77652367.cms\",\n",
        "         \"https://timesofindia.indiatimes.com/home/education/news/why-cloud-computing-industries-are-growing-amid-covid-crisis/articleshow/77119785.cms\",\n",
        "         \"https://timesofindia.indiatimes.com/business/international-business/bitcoin-hits-highest-in-13-months-as-2020-rally-gathers-steam/articleshow/77598278.cms\",\n",
        "         \"https://timesofindia.indiatimes.com/city/thiruvananthapuram/vellar-crafts-village-beckons-visitors/articleshow/79072252.cms\",\n",
        "         \"https://timesofindia.indiatimes.com/home/education/entrance-exams/jee-neet-2020-vmc-launches-rapid-success-courses-for-entrance-exam-preparations/articleshow/77365635.cms\",\n",
        "         \"https://www.cricbuzz.com/cricket-news/114860/twitter-reactions-ipl-2020-cricket-uae-final-mi-dc-rohit-sharma-the-greatest-t20-team-of-all-time\",\n",
        "         \"https://timesofindia.indiatimes.com/india/bihar-election-result-2020-highlights/articleshow/79140928.cms\",\n",
        "         \"https://timesofindia.indiatimes.com/world/us/us-presidential-elections\"]"
      ],
      "execution_count": 3,
      "outputs": []
    },
    {
      "cell_type": "code",
      "metadata": {
        "id": "ZVFBgSaztlSt"
      },
      "source": [
        "N = len(Links)"
      ],
      "execution_count": 4,
      "outputs": []
    },
    {
      "cell_type": "code",
      "metadata": {
        "id": "U8yCeDYlKaaP"
      },
      "source": [
        "# Extracting articles from their respective links\n",
        "\n",
        "Articles = []\n",
        "Titles = []\n",
        "for link in Links:\n",
        "  article = Article(link, language=\"en\")\n",
        "  article.download()                      #To download the article \n",
        "  article.parse()                         #To parse the article\n",
        "  article.nlp()                           #To perform natural language processing ie..nlp \n",
        "  Articles.append(article.text)           #To extract text \n",
        "  Titles.append(article.title)            #To extract title \n"
      ],
      "execution_count": 5,
      "outputs": []
    },
    {
      "cell_type": "code",
      "metadata": {
        "id": "AJor04pqNSPe",
        "outputId": "90dedd9f-a8ca-4b03-a4c6-77fa03d87c4a",
        "colab": {
          "base_uri": "https://localhost:8080/"
        }
      },
      "source": [
        "for i in range(N):\n",
        "  print(\"\\n #\\033[4m\", Titles[i], \":\\033[0m\")\n",
        "  print(Articles[i][:500])"
      ],
      "execution_count": 6,
      "outputs": [
        {
          "output_type": "stream",
          "text": [
            "\n",
            " #\u001b[4m IITians use deep learning techniques to digitally restore damaged murals of Ajanta caves :\u001b[0m\n",
            "At the recently-concluded Tech4Heritage hackathon, a team of deep learning enthusiasts from IIT Roorkee won the top prize. Utilising a dataset of reference paintings to develop their AI model, the team ‘Ancient AI’ was able to come up with restorative outcomes with the help of deep learning techniques for the damaged murals of the Ajanta Caves. Comprising of Parth Chhabra, Kushagra Babbar, Arjav Jain and Aryan Prasad — all of whom are BTech second-year mechanical engineering students, the team e\n",
            "\n",
            " #\u001b[4m Can AI help better predict mouth cancer risk? UK scientists think so :\u001b[0m\n",
            "LONDON: Artificial intelligence (AI) may help doctors better predict the risk of patients developing oral cancer by ensuring accuracy, consistency and objectivity, according to researchers from the University of Sheffield in the UK.The researchers are examining the use of AI and machine learning - the study of computer algorithms that improve automatically through experience - to assist pathologists and improve the early detection of oral cancer.The rate of people being diagnosed with oral cance\n",
            "\n",
            " #\u001b[4m Infosys Cobalt: Infosys launches set of services to accelerate cloud journey :\u001b[0m\n",
            "(File photo)\n",
            "\n",
            "BENGALURU: IT major Infosys Ltd on Thursday launched Infosys Cobalt, a set of services, solutions, and platforms that it said acts as a force multiplier for cloud-powered enterprise transformation .\n",
            "\n",
            "Infosys Cobalt helps businesses redesign the enterprise and also build new cloud-first capabilities to create seamless experiences in public, private and hybrid cloud across PaaS, SaaS, and IaaS landscapes, the Bengaluru-headquartered IT company said in a statement.\n",
            "\n",
            "\"With Infosys Coba\n",
            "\n",
            " #\u001b[4m Why Cloud Computing industries are growing amid Covid crisis :\u001b[0m\n",
            "The upsurge in the digital user base during the pandemic has made the Cloud Computing industry stronger. Cloud that offers the infrastructure for data storage has facilitated the continuity of industries and learning during these trying times.“Cloud powers the back end of various applications in smartphones and other devices for storing any amount of data. With the sudden arrival of the Covid-19, anything which was earlier done offline has either shut down or has moved online. Work from home and\n",
            "\n",
            " #\u001b[4m Bitcoin Price: Bitcoin hits highest in 13 months as 2020 rally gathers steam :\u001b[0m\n",
            "(Representative image)\n",
            "\n",
            "LONDON: Bitcoin jumped to its highest in over a year on Monday, adding to a 2020 rally that has seen it more than treble in price since March.\n",
            "\n",
            "The biggest cryptocurrency gained 4.4% to $12,424, its highest since July 2019. Bitcoin has soared over 70% this year, making it one of the strongest performing assets.\n",
            "\n",
            "Plummeting interest rates and huge bond-buying programmes by central banks across the world have boosted demand for the cryptocurrency, seen by some investors as \n",
            "\n",
            " #\u001b[4m Vellar crafts village beckons visitors :\u001b[0m\n",
            "THIRUVANANTHAPURAM: Aranmula mirror, Balaramapuram handloom and Nettoor boxes now come under the same roof at Vellar Arts and Crafts Village as the first phase of the project has been completed. The project aims to revitalize the handicrafts of the state and to ensure a decent livelihood for the artisans. The Crafts Village has launched programmes to introduce heritage products of Kerala in the global market .\n",
            "\n",
            "In the first phase, the village features about 50 crafts prepared in 28 studios. Each\n",
            "\n",
            " #\u001b[4m JEE, NEET 2020: VMC launches Rapid Success courses for entrance exam preparations :\u001b[0m\n",
            "NEW DELHI: Vidyamandir Classes on Tuesday said it has started online classes under a Rapid Success Programme for Class 12 pass students preparing for IIT Joint Entrance Examination (JEE) and National Eligibility cum Entrance Test (NEET).This would be the most rigorous, success-oriented programme for students preparing for JEE/NEET 2021 in the country, VMC said, adding that students of this course will be entitled to a flat 50 per cent COVID Support scholarship.Due to the prevailing uncertainty t\n",
            "\n",
            " #\u001b[4m 'The greatest T20 team of all time' :\u001b[0m\n",
            "IPL 2020\n",
            "\n",
            "Mumbai Indians beat Delhi Capitals by five wickets in Dubai to successfully retain the IPL title. With this win, MI have now won the championship five times with three of those coming in the last four years. Here's how the Twitter world reacted to MI's terrific feat.\n",
            "\n",
            " #\u001b[4m Bihar assembly election result 2020: Left parties leading in 18 of 29 seats, trends show :\u001b[0m\n",
            "Here is a look at the highlights:\n",
            "\n",
            "Lok Janshakti Party president Chirag Paswan described the Bihar polls results as a \"victory\" of Prime Minister Narendra Modi, saying people have shown their trust in him.\n",
            "\n",
            "polls results as a \"victory\" of Prime Minister Narendra Modi, saying people have shown their trust in him. The EC has declared results for 203 seats out of the total 243 in Bihar - The NDA has won 102 seats (BJP 60, JDU 34, VIP 4, HAM 4); Mahagathbandhan has won 93 seats (RJD 64, Congress 16,\n",
            "\n",
            " #\u001b[4m US Election 2020: US Election Date, Results and Presidential Debates :\u001b[0m\n",
            "22:29 (IST) , Nov 5 Georgia judge dismisses Trump campaign lawsuit\n",
            "\n",
            "22:17 (IST) , Nov 5 Joe Biden's campaign is expressing optimism at the ultimate result of the election but warning supporters to \"stay patient and stay calm'' as vote counting continues.\n",
            "\n",
            "22:09 (IST) , Nov 5 Joe Biden's campaign manager says it will take at least until Friday to see clarity from Arizona: Reuters\n"
          ],
          "name": "stdout"
        }
      ]
    },
    {
      "cell_type": "code",
      "metadata": {
        "id": "bjYqiQraVH1I"
      },
      "source": [
        "# Function to convert test in lower case\n",
        "\n",
        "def convert_lower_case(data):\n",
        "    return np.char.lower(data)"
      ],
      "execution_count": 7,
      "outputs": []
    },
    {
      "cell_type": "code",
      "metadata": {
        "id": "MegeSXyYVIA2"
      },
      "source": [
        "# Function to remove stop words (words that are so commonly used that they carry very little useful information)\n",
        "\n",
        "def remove_stop_words(data):\n",
        "    stop_words = stopwords.words('english')\n",
        "    words = word_tokenize(str(data))\n",
        "    new_text = \"\"\n",
        "    for w in words:\n",
        "        if w not in stop_words and len(w) > 1:\n",
        "            new_text = new_text + \" \" + w\n",
        "    return new_text\n"
      ],
      "execution_count": 8,
      "outputs": []
    },
    {
      "cell_type": "code",
      "metadata": {
        "id": "v5pjTdCDVIE0"
      },
      "source": [
        "# Function to remove punctuation marks\n",
        "\n",
        "def remove_punctuation(data):\n",
        "    symbols = \"!\\\"#$%&()*+-./:;<=>?@[\\]^_`{|}~\\n\"\n",
        "    for i in range(len(symbols)):\n",
        "        data = np.char.replace(data, symbols[i], ' ')\n",
        "        data = np.char.replace(data, \"  \", \" \")\n",
        "    data = np.char.replace(data, ',', '')\n",
        "    data = np.char.replace(data, \"'\", \"\")\n",
        "    return data"
      ],
      "execution_count": 9,
      "outputs": []
    },
    {
      "cell_type": "code",
      "metadata": {
        "id": "aGrHizVmVH6P"
      },
      "source": [
        "# Function for lemmitization of data\n",
        "\n",
        "def lemmatization(data):\n",
        "    lemmatizer = WordNetLemmatizer() \n",
        "    \n",
        "    tokens = word_tokenize(str(data))\n",
        "    new_text = \"\"\n",
        "    for w in tokens:\n",
        "        new_text = new_text + \" \" + lemmatizer.lemmatize(w)\n",
        "    return new_text"
      ],
      "execution_count": 10,
      "outputs": []
    },
    {
      "cell_type": "code",
      "metadata": {
        "id": "xbSpQsVRPn3E"
      },
      "source": [
        "# Function for preprocessing\n",
        "\n",
        "def preprocess(data):\n",
        "    data = convert_lower_case(data)       # convert data to lower case\n",
        "    data = remove_punctuation(data)       # remove punctuations \n",
        "    data = remove_stop_words(data)        # remove stop words\n",
        "    data = lemmatization(data)            # lemmatization of data\n",
        "    return data"
      ],
      "execution_count": 11,
      "outputs": []
    },
    {
      "cell_type": "code",
      "metadata": {
        "id": "iX3BleW-VjDe"
      },
      "source": [
        "PrePro_Articles = []\n",
        "\n",
        "for i in range(N):\n",
        "\n",
        "  prepro_article = preprocess(Articles[i])\n",
        "\n",
        "  PrePro_Articles.append(prepro_article)"
      ],
      "execution_count": 12,
      "outputs": []
    },
    {
      "cell_type": "code",
      "metadata": {
        "id": "xlmx2SaAXzZK",
        "outputId": "4d60fc8e-6c33-426b-e407-d72dfbee83ac",
        "colab": {
          "base_uri": "https://localhost:8080/"
        }
      },
      "source": [
        "for i in range(N):\n",
        "  print(\"\\n #\\033[4m\", Titles[i], \":\\033[0m\")\n",
        "  print(PrePro_Articles[i][:500])"
      ],
      "execution_count": 13,
      "outputs": [
        {
          "output_type": "stream",
          "text": [
            "\n",
            " #\u001b[4m IITians use deep learning techniques to digitally restore damaged murals of Ajanta caves :\u001b[0m\n",
            " recently concluded tech4heritage hackathon team deep learning enthusiast iit roorkee top prize utilising dataset reference painting develop ai model team ancient ai able come restorative outcome help deep learning technique damaged mural ajanta cave comprising parth chhabra kushagra babbar arjav jain aryan prasad btech second year mechanical engineering student team embarked upon hackathon fruitfully utilise lockdown day idea undertaking challenge came september covid case india peak common int\n",
            "\n",
            " #\u001b[4m Can AI help better predict mouth cancer risk? UK scientists think so :\u001b[0m\n",
            " london artificial intelligence ai may help doctor better predict risk patient developing oral cancer ensuring accuracy consistency objectivity according researcher university sheffield uk researcher examining use ai machine learning study computer algorithm improve automatically experience assist pathologist improve early detection oral cancer rate people diagnosed oral cancer including mouth tongue tonsil oropharyngeal cancer increased almost 60 per cent last 10 year researcher said statement \n",
            "\n",
            " #\u001b[4m Infosys Cobalt: Infosys launches set of services to accelerate cloud journey :\u001b[0m\n",
            " file photo bengaluru major infosys ltd thursday launched infosys cobalt set service solution platform said act force multiplier cloud powered enterprise transformation infosys cobalt help business redesign enterprise also build new cloud first capability create seamless experience public private hybrid cloud across paas saas iaa landscape bengaluru headquartered company said statement infosys cobalt community leverage enterprise rapidly launch solution create business model meet changing market\n",
            "\n",
            " #\u001b[4m Why Cloud Computing industries are growing amid Covid crisis :\u001b[0m\n",
            " upsurge digital user base pandemic made cloud computing industry stronger cloud offer infrastructure data storage facilitated continuity industry learning trying time cloud power back end various application smartphones device storing amount data sudden arrival covid 19 anything earlier done offline either shut moved online work home online learning become new normal result also seen rapid increase number participant enrolling cloud computing course say dharmendra singh head department computer\n",
            "\n",
            " #\u001b[4m Bitcoin Price: Bitcoin hits highest in 13 months as 2020 rally gathers steam :\u001b[0m\n",
            " representative image london bitcoin jumped highest year monday adding 2020 rally seen treble price since march biggest cryptocurrency gained 12424 highest since july 2019 bitcoin soared 70 year making one strongest performing asset plummeting interest rate huge bond buying programme central bank across world boosted demand cryptocurrency seen investor hedge inflation due capped supply\n",
            "\n",
            " #\u001b[4m Vellar crafts village beckons visitors :\u001b[0m\n",
            " thiruvananthapuram aranmula mirror balaramapuram handloom nettoor box come roof vellar art craft village first phase project completed project aim revitalize handicraft state ensure decent livelihood artisan craft village launched programme introduce heritage product kerala global market first phase village feature 50 craft prepared 28 studio studio give customer option see making handicraft first hand buy painting pottery cane product jewellery home decor home office equipment clothing statue \n",
            "\n",
            " #\u001b[4m JEE, NEET 2020: VMC launches Rapid Success courses for entrance exam preparations :\u001b[0m\n",
            " new delhi vidyamandir class tuesday said started online class rapid success programme class 12 pas student preparing iit joint entrance examination jee national eligibility cum entrance test neet would rigorous success oriented programme student preparing jee neet 2021 country vmc said adding student course entitled flat 50 per cent covid support scholarship due prevailing uncertainty triggered covid 19 crisis course flexible format allows exit student would crack neet iit jee exam september 20\n",
            "\n",
            " #\u001b[4m 'The greatest T20 team of all time' :\u001b[0m\n",
            " ipl 2020 mumbai indian beat delhi capital five wicket dubai successfully retain ipl title win mi championship five time three coming last four year here twitter world reacted mi terrific feat\n",
            "\n",
            " #\u001b[4m Bihar assembly election result 2020: Left parties leading in 18 of 29 seats, trends show :\u001b[0m\n",
            " look highlight lok janshakti party president chirag paswan described bihar poll result victory prime minister narendra modi saying people shown trust poll result victory prime minister narendra modi saying people shown trust ec declared result 203 seat total 243 bihar nda 102 seat bjp 60 jdu 34 vip ham mahagathbandhan 93 seat rjd 64 congress 16 left 13 aimim got bsp independent nda headed towards majority bihar pm modi said every voter state clearly stated priority development people blessing n\n",
            "\n",
            " #\u001b[4m US Election 2020: US Election Date, Results and Presidential Debates :\u001b[0m\n",
            " 22 29 ist nov georgia judge dismisses trump campaign lawsuit 22 17 ist nov joe bidens campaign expressing optimism ultimate result election warning supporter stay patient stay calm vote counting continues 22 09 ist nov joe bidens campaign manager say take least friday see clarity arizona reuters\n"
          ],
          "name": "stdout"
        }
      ]
    },
    {
      "cell_type": "code",
      "metadata": {
        "id": "s_Ua1uBijlEq",
        "outputId": "90f07fc7-edb0-4a04-9005-0a078594dd13",
        "colab": {
          "base_uri": "https://localhost:8080/"
        }
      },
      "source": [
        "# Pairing up Articles so that cosine similarity can be determined between article pairs\n",
        "\n",
        "article_ids = [\"Article_\" + str(i) for i in range(N)]\n",
        "\n",
        "# create a dictionary\n",
        "article_dict = dict(zip(article_ids, Titles))\n",
        "\n",
        "# get all the book ids in a list\n",
        "ids = list(article_dict.keys())\n",
        "\n",
        "# create all possible pairs\n",
        "pairs = []\n",
        "# create a list of tuples\n",
        "for i, v in enumerate(ids):\n",
        "    for j in ids[i+1:]:\n",
        "        pairs.append((ids[i], j))\n",
        "        \n",
        "print(\"There are a total of \" + str(len(pairs)) + \" pairs\")\n",
        "print(\"Displaying first 10 pairs: \")\n",
        "pairs[:10]"
      ],
      "execution_count": 14,
      "outputs": [
        {
          "output_type": "stream",
          "text": [
            "There are a total of 45 pairs\n",
            "Displaying first 10 pairs: \n"
          ],
          "name": "stdout"
        },
        {
          "output_type": "execute_result",
          "data": {
            "text/plain": [
              "[('Article_0', 'Article_1'),\n",
              " ('Article_0', 'Article_2'),\n",
              " ('Article_0', 'Article_3'),\n",
              " ('Article_0', 'Article_4'),\n",
              " ('Article_0', 'Article_5'),\n",
              " ('Article_0', 'Article_6'),\n",
              " ('Article_0', 'Article_7'),\n",
              " ('Article_0', 'Article_8'),\n",
              " ('Article_0', 'Article_9'),\n",
              " ('Article_1', 'Article_2')]"
            ]
          },
          "metadata": {
            "tags": []
          },
          "execution_count": 14
        }
      ]
    },
    {
      "cell_type": "code",
      "metadata": {
        "id": "f0bXfP4oex7B",
        "outputId": "89910d5c-72a6-409b-b094-84e50181ae12",
        "colab": {
          "base_uri": "https://localhost:8080/"
        }
      },
      "source": [
        "# Vectorization of Data along with tf-idf weights\n",
        "\n",
        "from sklearn.feature_extraction.text import TfidfVectorizer\n",
        "\n",
        "vectorizer = TfidfVectorizer(min_df=0.0, max_df=1.0, ngram_range=(1,1))\n",
        "vectorizer"
      ],
      "execution_count": 15,
      "outputs": [
        {
          "output_type": "execute_result",
          "data": {
            "text/plain": [
              "TfidfVectorizer(analyzer='word', binary=False, decode_error='strict',\n",
              "                dtype=<class 'numpy.float64'>, encoding='utf-8',\n",
              "                input='content', lowercase=True, max_df=1.0, max_features=None,\n",
              "                min_df=0.0, ngram_range=(1, 1), norm='l2', preprocessor=None,\n",
              "                smooth_idf=True, stop_words=None, strip_accents=None,\n",
              "                sublinear_tf=False, token_pattern='(?u)\\\\b\\\\w\\\\w+\\\\b',\n",
              "                tokenizer=None, use_idf=True, vocabulary=None)"
            ]
          },
          "metadata": {
            "tags": []
          },
          "execution_count": 15
        }
      ]
    },
    {
      "cell_type": "code",
      "metadata": {
        "id": "HbQ2gtVOjq6k"
      },
      "source": [
        "feature_matrix = vectorizer.fit_transform(PrePro_Articles).astype(float)"
      ],
      "execution_count": 16,
      "outputs": []
    },
    {
      "cell_type": "code",
      "metadata": {
        "id": "-BToXy0jkRoE"
      },
      "source": [
        "# Function for computing Cosine Similarities \n",
        "\n",
        "def compute_cosine_similarity(pair):\n",
        "    \n",
        "    # extract the indexes from the pair\n",
        "    article1, article2 = pair\n",
        "    \n",
        "    # split on _ and get index\n",
        "    article1_index = int(article1.split(\"_\")[1])\n",
        "    article2_index = int(article2.split(\"_\")[1])\n",
        "    \n",
        "    # get the feature matrix of the document\n",
        "    article1_fm = feature_matrix.toarray()[article1_index]\n",
        "    article2_fm = feature_matrix.toarray()[article2_index]\n",
        "    \n",
        "    # compute cosine similarity manually\n",
        "    manual_cosine_similarity = np.dot(article1_fm, article2_fm)\n",
        "    \n",
        "    return manual_cosine_similarity"
      ],
      "execution_count": 17,
      "outputs": []
    },
    {
      "cell_type": "code",
      "metadata": {
        "id": "WEPJdirlklXg"
      },
      "source": [
        "cosine_similarity = [compute_cosine_similarity(pair) for pair in pairs]"
      ],
      "execution_count": 18,
      "outputs": []
    },
    {
      "cell_type": "code",
      "metadata": {
        "id": "8tr3aAJFnHkb",
        "outputId": "e4982885-99f0-4b56-b0e1-393796e67aed",
        "colab": {
          "base_uri": "https://localhost:8080/",
          "height": 204
        }
      },
      "source": [
        "df = pd.DataFrame({'pair': pairs, 'similarity': cosine_similarity})\n",
        "df.head()"
      ],
      "execution_count": 19,
      "outputs": [
        {
          "output_type": "execute_result",
          "data": {
            "text/html": [
              "<div>\n",
              "<style scoped>\n",
              "    .dataframe tbody tr th:only-of-type {\n",
              "        vertical-align: middle;\n",
              "    }\n",
              "\n",
              "    .dataframe tbody tr th {\n",
              "        vertical-align: top;\n",
              "    }\n",
              "\n",
              "    .dataframe thead th {\n",
              "        text-align: right;\n",
              "    }\n",
              "</style>\n",
              "<table border=\"1\" class=\"dataframe\">\n",
              "  <thead>\n",
              "    <tr style=\"text-align: right;\">\n",
              "      <th></th>\n",
              "      <th>pair</th>\n",
              "      <th>similarity</th>\n",
              "    </tr>\n",
              "  </thead>\n",
              "  <tbody>\n",
              "    <tr>\n",
              "      <th>0</th>\n",
              "      <td>(Article_0, Article_1)</td>\n",
              "      <td>0.079431</td>\n",
              "    </tr>\n",
              "    <tr>\n",
              "      <th>1</th>\n",
              "      <td>(Article_0, Article_2)</td>\n",
              "      <td>0.035488</td>\n",
              "    </tr>\n",
              "    <tr>\n",
              "      <th>2</th>\n",
              "      <td>(Article_0, Article_3)</td>\n",
              "      <td>0.111881</td>\n",
              "    </tr>\n",
              "    <tr>\n",
              "      <th>3</th>\n",
              "      <td>(Article_0, Article_4)</td>\n",
              "      <td>0.036690</td>\n",
              "    </tr>\n",
              "    <tr>\n",
              "      <th>4</th>\n",
              "      <td>(Article_0, Article_5)</td>\n",
              "      <td>0.092751</td>\n",
              "    </tr>\n",
              "  </tbody>\n",
              "</table>\n",
              "</div>"
            ],
            "text/plain": [
              "                     pair  similarity\n",
              "0  (Article_0, Article_1)    0.079431\n",
              "1  (Article_0, Article_2)    0.035488\n",
              "2  (Article_0, Article_3)    0.111881\n",
              "3  (Article_0, Article_4)    0.036690\n",
              "4  (Article_0, Article_5)    0.092751"
            ]
          },
          "metadata": {
            "tags": []
          },
          "execution_count": 19
        }
      ]
    },
    {
      "cell_type": "code",
      "metadata": {
        "id": "jWyB2pIuotzX"
      },
      "source": [
        "import seaborn as sns\n",
        "import matplotlib.pyplot as plt\n"
      ],
      "execution_count": 20,
      "outputs": []
    },
    {
      "cell_type": "markdown",
      "metadata": {
        "id": "Yd0V44mvzIwX"
      },
      "source": [
        "### Code snippet for plotting Heat Map"
      ]
    },
    {
      "cell_type": "code",
      "metadata": {
        "id": "2Elp4ORDnNDX",
        "outputId": "dfa5a2d6-cffa-4e5f-f85f-4ca3816685b7",
        "colab": {
          "base_uri": "https://localhost:8080/",
          "height": 493
        }
      },
      "source": [
        "# initialize an empty dataframe grid\n",
        "df_hm = pd.DataFrame({'ind': range(N), 'cols': range(N), 'vals': pd.Series(np.zeros(N))})\n",
        "\n",
        "# convert to a matrix\n",
        "df_hm = df_hm.pivot(index='ind', columns='cols').fillna(0)\n",
        "\n",
        "# make a copy\n",
        "df_temp = df.copy()\n",
        "\n",
        "# convert list of tuples into 2 lists\n",
        "list1 = []\n",
        "list2 = []\n",
        "for item1, item2 in df_temp.pair:\n",
        "    list1.append(item1)\n",
        "    list2.append(item2)\n",
        "\n",
        "# add two columns to df_temp\n",
        "df_temp['article1'] = list1\n",
        "df_temp['article2'] = list2\n",
        "\n",
        "# drop the pair as it not needed\n",
        "df_temp.drop('pair', axis=1, inplace=True)\n",
        "\n",
        "# extract index so that you can construct pairs\n",
        "df_temp['article1'] = df_temp['article1'].apply(lambda x: int(x.split('_')[-1]))\n",
        "df_temp['article2'] = df_temp['article2'].apply(lambda x: int(x.split('_')[-1]))\n",
        "\n",
        "# create tuples (0, 1, similarity)\n",
        "df_temp['pairs'] = list(zip(df_temp.article1, df_temp.article2, round(df_temp.similarity, 2)))\n",
        "\n",
        "# display(df_temp.head())\n",
        "\n",
        "# to get lower diagnol, swap the rows and cols.\n",
        "for row, col, similarity in df_temp.pairs:\n",
        "    df_hm.iloc[col, row] = similarity\n",
        "\n",
        "mask = np.zeros_like(df_hm)\n",
        "mask[np.triu_indices_from(mask)] = True\n",
        "fig, ax = plt.subplots(figsize=(7,7))\n",
        "sns.heatmap(df_hm, mask = mask, annot = True, xticklabels = ids, yticklabels = ids)"
      ],
      "execution_count": 21,
      "outputs": [
        {
          "output_type": "execute_result",
          "data": {
            "text/plain": [
              "<matplotlib.axes._subplots.AxesSubplot at 0x7f56b4952048>"
            ]
          },
          "metadata": {
            "tags": []
          },
          "execution_count": 21
        },
        {
          "output_type": "display_data",
          "data": {
            "image/png": "[encoded data removed]",
            "text/plain": [
              "<Figure size 504x504 with 2 Axes>"
            ]
          },
          "metadata": {
            "tags": [],
            "needs_background": "light"
          }
        }
      ]
    },
    {
      "cell_type": "code",
      "metadata": {
        "id": "YJvSd-CsoJt9",
        "outputId": "6aebe4ca-4e96-47c7-efcf-b4245ffc0f33",
        "colab": {
          "base_uri": "https://localhost:8080/",
          "height": 111
        }
      },
      "source": [
        "# display articles which are most similar and least similar\n",
        "\n",
        "df.loc[[df.similarity.values.argmax(), df.similarity.values.argmin()]]\n"
      ],
      "execution_count": 22,
      "outputs": [
        {
          "output_type": "execute_result",
          "data": {
            "text/html": [
              "<div>\n",
              "<style scoped>\n",
              "    .dataframe tbody tr th:only-of-type {\n",
              "        vertical-align: middle;\n",
              "    }\n",
              "\n",
              "    .dataframe tbody tr th {\n",
              "        vertical-align: top;\n",
              "    }\n",
              "\n",
              "    .dataframe thead th {\n",
              "        text-align: right;\n",
              "    }\n",
              "</style>\n",
              "<table border=\"1\" class=\"dataframe\">\n",
              "  <thead>\n",
              "    <tr style=\"text-align: right;\">\n",
              "      <th></th>\n",
              "      <th>pair</th>\n",
              "      <th>similarity</th>\n",
              "    </tr>\n",
              "  </thead>\n",
              "  <tbody>\n",
              "    <tr>\n",
              "      <th>17</th>\n",
              "      <td>(Article_2, Article_3)</td>\n",
              "      <td>0.293807</td>\n",
              "    </tr>\n",
              "    <tr>\n",
              "      <th>21</th>\n",
              "      <td>(Article_2, Article_7)</td>\n",
              "      <td>0.000000</td>\n",
              "    </tr>\n",
              "  </tbody>\n",
              "</table>\n",
              "</div>"
            ],
            "text/plain": [
              "                      pair  similarity\n",
              "17  (Article_2, Article_3)    0.293807\n",
              "21  (Article_2, Article_7)    0.000000"
            ]
          },
          "metadata": {
            "tags": []
          },
          "execution_count": 22
        }
      ]
    },
    {
      "cell_type": "code",
      "metadata": {
        "id": "i1lwjPGoppGw",
        "outputId": "37176773-aaec-4763-bf98-dcd2c005e42f",
        "colab": {
          "base_uri": "https://localhost:8080/"
        }
      },
      "source": [
        "print(\"Most similar articles are: \")\n",
        "print(article_dict['Article_2'])\n",
        "print(\" and \")\n",
        "print(article_dict['Article_3'])\n"
      ],
      "execution_count": 23,
      "outputs": [
        {
          "output_type": "stream",
          "text": [
            "Most similar articles are: \n",
            "Infosys Cobalt: Infosys launches set of services to accelerate cloud journey\n",
            " and \n",
            "Why Cloud Computing industries are growing amid Covid crisis\n"
          ],
          "name": "stdout"
        }
      ]
    },
    {
      "cell_type": "code",
      "metadata": {
        "id": "d8vb3cdMrwE1",
        "outputId": "1f1625d1-0378-462c-a4f5-989dbcc7a6f7",
        "colab": {
          "base_uri": "https://localhost:8080/"
        }
      },
      "source": [
        "print(\"Most dissimilar articles are: \")\n",
        "print(article_dict['Article_2'])\n",
        "print(\" and \")\n",
        "print(article_dict['Article_7'])"
      ],
      "execution_count": 24,
      "outputs": [
        {
          "output_type": "stream",
          "text": [
            "Most dissimilar articles are: \n",
            "Infosys Cobalt: Infosys launches set of services to accelerate cloud journey\n",
            " and \n",
            "'The greatest T20 team of all time'\n"
          ],
          "name": "stdout"
        }
      ]
    },
    {
      "cell_type": "code",
      "metadata": {
        "id": "S2_u2-q4sQFA"
      },
      "source": [
        ""
      ],
      "execution_count": 24,
      "outputs": []
    }
  ]
}