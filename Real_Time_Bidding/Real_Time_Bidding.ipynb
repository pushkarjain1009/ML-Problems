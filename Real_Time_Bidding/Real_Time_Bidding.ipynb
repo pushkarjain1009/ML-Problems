{
  "nbformat": 4,
  "nbformat_minor": 0,
  "metadata": {
    "colab": {
      "name": "Real_Time_Bidding.ipynb",
      "provenance": [],
      "include_colab_link": true
    },
    "kernelspec": {
      "display_name": "Python 3",
      "language": "python",
      "name": "python3"
    },
    "language_info": {
      "codemirror_mode": {
        "name": "ipython",
        "version": 3
      },
      "file_extension": ".py",
      "mimetype": "text/x-python",
      "name": "python",
      "nbconvert_exporter": "python",
      "pygments_lexer": "ipython3",
      "version": "3.7.3"
    }
  },
  "cells": [
    {
      "cell_type": "markdown",
      "metadata": {
        "id": "view-in-github",
        "colab_type": "text"
      },
      "source": [
        "<a href=\"https://colab.research.google.com/github/pushkarjain1009/Random-ML-Problems/blob/master/Real_Time_Bidding.ipynb\" target=\"_parent\"><img src=\"https://colab.research.google.com/assets/colab-badge.svg\" alt=\"Open In Colab\"/></a>"
      ]
    },
    {
      "cell_type": "markdown",
      "metadata": {
        "id": "scfqm82TBHwz"
      },
      "source": [
        "## Real Time Bidding \n",
        "\n",
        "#### Decision Tree Classification  "
      ]
    },
    {
      "cell_type": "code",
      "metadata": {
        "id": "K4L-T_Pc6l1l"
      },
      "source": [
        "# importing necessary libraries\n",
        "\n",
        "import numpy as np\n",
        "import pandas as pd\n",
        "import seaborn as sns\n",
        "import matplotlib.pyplot as plt\n"
      ],
      "execution_count": null,
      "outputs": []
    },
    {
      "cell_type": "code",
      "metadata": {
        "id": "nez8Ybm4C3Lj",
        "outputId": "1ebd59fb-a938-479a-d12e-de12e9a64f3e"
      },
      "source": [
        "data = pd.read_csv(\"biddings.csv\")\n",
        "df = pd.DataFrame(data)\n",
        "df.shape"
      ],
      "execution_count": null,
      "outputs": [
        {
          "output_type": "execute_result",
          "data": {
            "text/plain": [
              "(1000000, 89)"
            ]
          },
          "metadata": {
            "tags": []
          },
          "execution_count": 2
        }
      ]
    },
    {
      "cell_type": "code",
      "metadata": {
        "id": "rPM3iGsqDDRF",
        "outputId": "9639f02b-d20d-47ba-f34c-7d0269cdfd96"
      },
      "source": [
        "df.head()"
      ],
      "execution_count": null,
      "outputs": [
        {
          "output_type": "execute_result",
          "data": {
            "text/html": [
              "<div>\n",
              "<style scoped>\n",
              "    .dataframe tbody tr th:only-of-type {\n",
              "        vertical-align: middle;\n",
              "    }\n",
              "\n",
              "    .dataframe tbody tr th {\n",
              "        vertical-align: top;\n",
              "    }\n",
              "\n",
              "    .dataframe thead th {\n",
              "        text-align: right;\n",
              "    }\n",
              "</style>\n",
              "<table border=\"1\" class=\"dataframe\">\n",
              "  <thead>\n",
              "    <tr style=\"text-align: right;\">\n",
              "      <th></th>\n",
              "      <th>0</th>\n",
              "      <th>1</th>\n",
              "      <th>2</th>\n",
              "      <th>3</th>\n",
              "      <th>4</th>\n",
              "      <th>5</th>\n",
              "      <th>6</th>\n",
              "      <th>7</th>\n",
              "      <th>8</th>\n",
              "      <th>9</th>\n",
              "      <th>...</th>\n",
              "      <th>79</th>\n",
              "      <th>80</th>\n",
              "      <th>81</th>\n",
              "      <th>82</th>\n",
              "      <th>83</th>\n",
              "      <th>84</th>\n",
              "      <th>85</th>\n",
              "      <th>86</th>\n",
              "      <th>87</th>\n",
              "      <th>convert</th>\n",
              "    </tr>\n",
              "  </thead>\n",
              "  <tbody>\n",
              "    <tr>\n",
              "      <th>0</th>\n",
              "      <td>-0.01</td>\n",
              "      <td>-0.43</td>\n",
              "      <td>2.22</td>\n",
              "      <td>-0.59</td>\n",
              "      <td>0.80</td>\n",
              "      <td>0.21</td>\n",
              "      <td>-0.19</td>\n",
              "      <td>0.30</td>\n",
              "      <td>-0.25</td>\n",
              "      <td>0.42</td>\n",
              "      <td>...</td>\n",
              "      <td>-0.07</td>\n",
              "      <td>0.30</td>\n",
              "      <td>-0.19</td>\n",
              "      <td>0.61</td>\n",
              "      <td>-0.04</td>\n",
              "      <td>0.36</td>\n",
              "      <td>-0.18</td>\n",
              "      <td>-0.24</td>\n",
              "      <td>0.07</td>\n",
              "      <td>0</td>\n",
              "    </tr>\n",
              "    <tr>\n",
              "      <th>1</th>\n",
              "      <td>0.00</td>\n",
              "      <td>-4.11</td>\n",
              "      <td>1.48</td>\n",
              "      <td>0.92</td>\n",
              "      <td>-7.37</td>\n",
              "      <td>0.60</td>\n",
              "      <td>0.37</td>\n",
              "      <td>1.95</td>\n",
              "      <td>0.19</td>\n",
              "      <td>0.85</td>\n",
              "      <td>...</td>\n",
              "      <td>-0.57</td>\n",
              "      <td>-0.27</td>\n",
              "      <td>1.17</td>\n",
              "      <td>-0.52</td>\n",
              "      <td>-1.43</td>\n",
              "      <td>-0.24</td>\n",
              "      <td>-0.41</td>\n",
              "      <td>0.71</td>\n",
              "      <td>-0.22</td>\n",
              "      <td>0</td>\n",
              "    </tr>\n",
              "    <tr>\n",
              "      <th>2</th>\n",
              "      <td>0.01</td>\n",
              "      <td>-5.03</td>\n",
              "      <td>-2.78</td>\n",
              "      <td>-0.83</td>\n",
              "      <td>0.92</td>\n",
              "      <td>0.46</td>\n",
              "      <td>0.10</td>\n",
              "      <td>1.36</td>\n",
              "      <td>-0.74</td>\n",
              "      <td>1.62</td>\n",
              "      <td>...</td>\n",
              "      <td>-0.13</td>\n",
              "      <td>0.33</td>\n",
              "      <td>0.38</td>\n",
              "      <td>0.41</td>\n",
              "      <td>-0.61</td>\n",
              "      <td>0.24</td>\n",
              "      <td>-0.10</td>\n",
              "      <td>-1.19</td>\n",
              "      <td>0.37</td>\n",
              "      <td>0</td>\n",
              "    </tr>\n",
              "    <tr>\n",
              "      <th>3</th>\n",
              "      <td>-0.02</td>\n",
              "      <td>1.98</td>\n",
              "      <td>2.30</td>\n",
              "      <td>0.87</td>\n",
              "      <td>-7.09</td>\n",
              "      <td>0.36</td>\n",
              "      <td>0.16</td>\n",
              "      <td>1.79</td>\n",
              "      <td>0.23</td>\n",
              "      <td>0.26</td>\n",
              "      <td>...</td>\n",
              "      <td>0.07</td>\n",
              "      <td>0.41</td>\n",
              "      <td>-0.81</td>\n",
              "      <td>-0.49</td>\n",
              "      <td>0.07</td>\n",
              "      <td>-0.20</td>\n",
              "      <td>-0.31</td>\n",
              "      <td>-0.55</td>\n",
              "      <td>0.18</td>\n",
              "      <td>0</td>\n",
              "    </tr>\n",
              "    <tr>\n",
              "      <th>4</th>\n",
              "      <td>-0.01</td>\n",
              "      <td>0.14</td>\n",
              "      <td>-2.43</td>\n",
              "      <td>-0.68</td>\n",
              "      <td>0.73</td>\n",
              "      <td>-1.47</td>\n",
              "      <td>0.68</td>\n",
              "      <td>1.93</td>\n",
              "      <td>-0.35</td>\n",
              "      <td>3.12</td>\n",
              "      <td>...</td>\n",
              "      <td>-0.04</td>\n",
              "      <td>0.03</td>\n",
              "      <td>0.07</td>\n",
              "      <td>-0.05</td>\n",
              "      <td>-0.02</td>\n",
              "      <td>-0.01</td>\n",
              "      <td>0.00</td>\n",
              "      <td>-0.20</td>\n",
              "      <td>0.07</td>\n",
              "      <td>0</td>\n",
              "    </tr>\n",
              "  </tbody>\n",
              "</table>\n",
              "<p>5 rows × 89 columns</p>\n",
              "</div>"
            ],
            "text/plain": [
              "      0     1     2     3     4     5     6     7     8     9  ...    79  \\\n",
              "0 -0.01 -0.43  2.22 -0.59  0.80  0.21 -0.19  0.30 -0.25  0.42  ... -0.07   \n",
              "1  0.00 -4.11  1.48  0.92 -7.37  0.60  0.37  1.95  0.19  0.85  ... -0.57   \n",
              "2  0.01 -5.03 -2.78 -0.83  0.92  0.46  0.10  1.36 -0.74  1.62  ... -0.13   \n",
              "3 -0.02  1.98  2.30  0.87 -7.09  0.36  0.16  1.79  0.23  0.26  ...  0.07   \n",
              "4 -0.01  0.14 -2.43 -0.68  0.73 -1.47  0.68  1.93 -0.35  3.12  ... -0.04   \n",
              "\n",
              "     80    81    82    83    84    85    86    87  convert  \n",
              "0  0.30 -0.19  0.61 -0.04  0.36 -0.18 -0.24  0.07        0  \n",
              "1 -0.27  1.17 -0.52 -1.43 -0.24 -0.41  0.71 -0.22        0  \n",
              "2  0.33  0.38  0.41 -0.61  0.24 -0.10 -1.19  0.37        0  \n",
              "3  0.41 -0.81 -0.49  0.07 -0.20 -0.31 -0.55  0.18        0  \n",
              "4  0.03  0.07 -0.05 -0.02 -0.01  0.00 -0.20  0.07        0  \n",
              "\n",
              "[5 rows x 89 columns]"
            ]
          },
          "metadata": {
            "tags": []
          },
          "execution_count": 3
        }
      ]
    },
    {
      "cell_type": "code",
      "metadata": {
        "id": "-FVs-WeWDJcE",
        "outputId": "0527a8ad-2056-44b5-bbeb-50051ab41861"
      },
      "source": [
        "# showing column wise %ge of NaN values they contains \n",
        "null_col = []\n",
        "\n",
        "for i in df.columns:\n",
        "  print(i,\"\\t-\\t\", df[i].isna().mean()*100)\n",
        "  if df[i].isna().mean()*100 > 0:\n",
        "    null_col.append(i)\n"
      ],
      "execution_count": null,
      "outputs": [
        {
          "output_type": "stream",
          "text": [
            "0 \t-\t 0.0\n",
            "1 \t-\t 0.0\n",
            "2 \t-\t 0.0\n",
            "3 \t-\t 0.0\n",
            "4 \t-\t 0.0\n",
            "5 \t-\t 0.0\n",
            "6 \t-\t 0.0\n",
            "7 \t-\t 0.0\n",
            "8 \t-\t 0.0\n",
            "9 \t-\t 0.0\n",
            "10 \t-\t 0.0\n",
            "11 \t-\t 0.0\n",
            "12 \t-\t 0.0\n",
            "13 \t-\t 0.0\n",
            "14 \t-\t 0.0\n",
            "15 \t-\t 0.0\n",
            "16 \t-\t 0.0\n",
            "17 \t-\t 0.0\n",
            "18 \t-\t 0.0\n",
            "19 \t-\t 0.0\n",
            "20 \t-\t 0.0\n",
            "21 \t-\t 0.0\n",
            "22 \t-\t 0.0\n",
            "23 \t-\t 0.0\n",
            "24 \t-\t 0.0\n",
            "25 \t-\t 0.0\n",
            "26 \t-\t 0.0\n",
            "27 \t-\t 0.0\n",
            "28 \t-\t 0.0\n",
            "29 \t-\t 0.0\n",
            "30 \t-\t 0.0\n",
            "31 \t-\t 0.0\n",
            "32 \t-\t 0.0\n",
            "33 \t-\t 0.0\n",
            "34 \t-\t 0.0\n",
            "35 \t-\t 0.0\n",
            "36 \t-\t 0.0\n",
            "37 \t-\t 0.0\n",
            "38 \t-\t 0.0\n",
            "39 \t-\t 0.0\n",
            "40 \t-\t 0.0\n",
            "41 \t-\t 0.0\n",
            "42 \t-\t 0.0\n",
            "43 \t-\t 0.0\n",
            "44 \t-\t 0.0\n",
            "45 \t-\t 0.0\n",
            "46 \t-\t 0.0\n",
            "47 \t-\t 0.0\n",
            "48 \t-\t 0.0\n",
            "49 \t-\t 0.0\n",
            "50 \t-\t 0.0\n",
            "51 \t-\t 0.0\n",
            "52 \t-\t 0.0\n",
            "53 \t-\t 0.0\n",
            "54 \t-\t 0.0\n",
            "55 \t-\t 0.0\n",
            "56 \t-\t 0.0\n",
            "57 \t-\t 0.0\n",
            "58 \t-\t 0.0\n",
            "59 \t-\t 0.0\n",
            "60 \t-\t 0.0\n",
            "61 \t-\t 0.0\n",
            "62 \t-\t 0.0\n",
            "63 \t-\t 0.0\n",
            "64 \t-\t 0.0\n",
            "65 \t-\t 0.0\n",
            "66 \t-\t 0.0\n",
            "67 \t-\t 0.0\n",
            "68 \t-\t 0.0\n",
            "69 \t-\t 0.0\n",
            "70 \t-\t 0.0\n",
            "71 \t-\t 0.0\n",
            "72 \t-\t 0.0\n",
            "73 \t-\t 0.0\n",
            "74 \t-\t 0.0\n",
            "75 \t-\t 0.0\n",
            "76 \t-\t 0.0\n",
            "77 \t-\t 0.0\n",
            "78 \t-\t 0.0\n",
            "79 \t-\t 0.0\n",
            "80 \t-\t 0.0\n",
            "81 \t-\t 0.0\n",
            "82 \t-\t 0.0\n",
            "83 \t-\t 0.0\n",
            "84 \t-\t 0.0\n",
            "85 \t-\t 0.0\n",
            "86 \t-\t 0.0\n",
            "87 \t-\t 0.0\n",
            "convert \t-\t 0.0\n"
          ],
          "name": "stdout"
        }
      ]
    },
    {
      "cell_type": "markdown",
      "metadata": {
        "id": "66skgnRCHJa0"
      },
      "source": [
        "> Since data does'nt contain any null values, we can move further"
      ]
    },
    {
      "cell_type": "code",
      "metadata": {
        "id": "uKA2ZThSHI7m",
        "outputId": "1e44de49-c7a4-4d7d-dc39-0fe469a1da6b"
      },
      "source": [
        "df.info()"
      ],
      "execution_count": null,
      "outputs": [
        {
          "output_type": "stream",
          "text": [
            "<class 'pandas.core.frame.DataFrame'>\n",
            "RangeIndex: 1000000 entries, 0 to 999999\n",
            "Data columns (total 89 columns):\n",
            "0          1000000 non-null float64\n",
            "1          1000000 non-null float64\n",
            "2          1000000 non-null float64\n",
            "3          1000000 non-null float64\n",
            "4          1000000 non-null float64\n",
            "5          1000000 non-null float64\n",
            "6          1000000 non-null float64\n",
            "7          1000000 non-null float64\n",
            "8          1000000 non-null float64\n",
            "9          1000000 non-null float64\n",
            "10         1000000 non-null float64\n",
            "11         1000000 non-null float64\n",
            "12         1000000 non-null float64\n",
            "13         1000000 non-null float64\n",
            "14         1000000 non-null float64\n",
            "15         1000000 non-null float64\n",
            "16         1000000 non-null float64\n",
            "17         1000000 non-null float64\n",
            "18         1000000 non-null float64\n",
            "19         1000000 non-null float64\n",
            "20         1000000 non-null float64\n",
            "21         1000000 non-null float64\n",
            "22         1000000 non-null float64\n",
            "23         1000000 non-null float64\n",
            "24         1000000 non-null float64\n",
            "25         1000000 non-null float64\n",
            "26         1000000 non-null float64\n",
            "27         1000000 non-null float64\n",
            "28         1000000 non-null float64\n",
            "29         1000000 non-null float64\n",
            "30         1000000 non-null float64\n",
            "31         1000000 non-null float64\n",
            "32         1000000 non-null float64\n",
            "33         1000000 non-null float64\n",
            "34         1000000 non-null float64\n",
            "35         1000000 non-null float64\n",
            "36         1000000 non-null float64\n",
            "37         1000000 non-null float64\n",
            "38         1000000 non-null float64\n",
            "39         1000000 non-null float64\n",
            "40         1000000 non-null float64\n",
            "41         1000000 non-null float64\n",
            "42         1000000 non-null float64\n",
            "43         1000000 non-null float64\n",
            "44         1000000 non-null float64\n",
            "45         1000000 non-null float64\n",
            "46         1000000 non-null float64\n",
            "47         1000000 non-null float64\n",
            "48         1000000 non-null float64\n",
            "49         1000000 non-null float64\n",
            "50         1000000 non-null float64\n",
            "51         1000000 non-null float64\n",
            "52         1000000 non-null float64\n",
            "53         1000000 non-null float64\n",
            "54         1000000 non-null float64\n",
            "55         1000000 non-null float64\n",
            "56         1000000 non-null float64\n",
            "57         1000000 non-null float64\n",
            "58         1000000 non-null float64\n",
            "59         1000000 non-null float64\n",
            "60         1000000 non-null float64\n",
            "61         1000000 non-null float64\n",
            "62         1000000 non-null float64\n",
            "63         1000000 non-null float64\n",
            "64         1000000 non-null float64\n",
            "65         1000000 non-null float64\n",
            "66         1000000 non-null float64\n",
            "67         1000000 non-null float64\n",
            "68         1000000 non-null float64\n",
            "69         1000000 non-null float64\n",
            "70         1000000 non-null float64\n",
            "71         1000000 non-null float64\n",
            "72         1000000 non-null float64\n",
            "73         1000000 non-null float64\n",
            "74         1000000 non-null float64\n",
            "75         1000000 non-null float64\n",
            "76         1000000 non-null float64\n",
            "77         1000000 non-null float64\n",
            "78         1000000 non-null float64\n",
            "79         1000000 non-null float64\n",
            "80         1000000 non-null float64\n",
            "81         1000000 non-null float64\n",
            "82         1000000 non-null float64\n",
            "83         1000000 non-null float64\n",
            "84         1000000 non-null float64\n",
            "85         1000000 non-null float64\n",
            "86         1000000 non-null float64\n",
            "87         1000000 non-null float64\n",
            "convert    1000000 non-null int64\n",
            "dtypes: float64(88), int64(1)\n",
            "memory usage: 679.0 MB\n"
          ],
          "name": "stdout"
        }
      ]
    },
    {
      "cell_type": "markdown",
      "metadata": {
        "id": "lzvJcjB7Hg07"
      },
      "source": [
        "> Here all the features are numerical and contains decimal values. Only last featur has integer values so it's appeared it's our target class with value either 0 or 1."
      ]
    },
    {
      "cell_type": "code",
      "metadata": {
        "id": "Uq8uX2vxHHK8",
        "outputId": "628904a1-52c5-451f-bb91-193bd28c6900"
      },
      "source": [
        "plt.figure(figsize=(5,10))\n",
        "ax = sns.countplot(x='convert', data=df)\n",
        "\n",
        "for p in ax.patches:\n",
        "        ax.annotate('{}'.format(p.get_height()), (p.get_x()+0.1, p.get_height()+50))\n"
      ],
      "execution_count": null,
      "outputs": [
        {
          "output_type": "display_data",
          "data": {
            "image/png": "[encoded data removed]",
            "text/plain": [
              "<Figure size 360x720 with 1 Axes>"
            ]
          },
          "metadata": {
            "tags": [],
            "needs_background": "light"
          }
        }
      ]
    },
    {
      "cell_type": "markdown",
      "metadata": {
        "id": "eDOySAhPJ3QX"
      },
      "source": [
        "> Here this bar graph easily shows how data is imbalanced. Less than 1% data is in class __1__. So, first, we have to balance th data in to get more precise predictions.\n",
        ">\n",
        "> For Balancing the data I'm using undersampling in which we will reduce the rows of class __0__ to the number equal to that of class __1__ (ratio 1:1).\n"
      ]
    },
    {
      "cell_type": "code",
      "metadata": {
        "id": "g3w1ZUWFG829"
      },
      "source": [
        "class_1 = df[df['convert'] == 1]\n",
        "class_0 = df[df['convert'] == 0].sample(n = len(class_1))"
      ],
      "execution_count": null,
      "outputs": []
    },
    {
      "cell_type": "code",
      "metadata": {
        "id": "HQEtvN5rHgm6"
      },
      "source": [
        "new_df = pd.concat([class_1, class_0]).sample(frac=1)"
      ],
      "execution_count": null,
      "outputs": []
    },
    {
      "cell_type": "code",
      "metadata": {
        "id": "q1OQ0zxCJTDh",
        "outputId": "0d9e00cb-8878-40ff-c247-faafeb8363c9"
      },
      "source": [
        "new_df.head()"
      ],
      "execution_count": null,
      "outputs": [
        {
          "output_type": "execute_result",
          "data": {
            "text/html": [
              "<div>\n",
              "<style scoped>\n",
              "    .dataframe tbody tr th:only-of-type {\n",
              "        vertical-align: middle;\n",
              "    }\n",
              "\n",
              "    .dataframe tbody tr th {\n",
              "        vertical-align: top;\n",
              "    }\n",
              "\n",
              "    .dataframe thead th {\n",
              "        text-align: right;\n",
              "    }\n",
              "</style>\n",
              "<table border=\"1\" class=\"dataframe\">\n",
              "  <thead>\n",
              "    <tr style=\"text-align: right;\">\n",
              "      <th></th>\n",
              "      <th>0</th>\n",
              "      <th>1</th>\n",
              "      <th>2</th>\n",
              "      <th>3</th>\n",
              "      <th>4</th>\n",
              "      <th>5</th>\n",
              "      <th>6</th>\n",
              "      <th>7</th>\n",
              "      <th>8</th>\n",
              "      <th>9</th>\n",
              "      <th>...</th>\n",
              "      <th>79</th>\n",
              "      <th>80</th>\n",
              "      <th>81</th>\n",
              "      <th>82</th>\n",
              "      <th>83</th>\n",
              "      <th>84</th>\n",
              "      <th>85</th>\n",
              "      <th>86</th>\n",
              "      <th>87</th>\n",
              "      <th>convert</th>\n",
              "    </tr>\n",
              "  </thead>\n",
              "  <tbody>\n",
              "    <tr>\n",
              "      <th>723304</th>\n",
              "      <td>-0.00</td>\n",
              "      <td>-2.43</td>\n",
              "      <td>-2.29</td>\n",
              "      <td>-0.81</td>\n",
              "      <td>0.98</td>\n",
              "      <td>0.49</td>\n",
              "      <td>0.32</td>\n",
              "      <td>0.90</td>\n",
              "      <td>-0.60</td>\n",
              "      <td>0.83</td>\n",
              "      <td>...</td>\n",
              "      <td>-0.04</td>\n",
              "      <td>0.07</td>\n",
              "      <td>0.06</td>\n",
              "      <td>-0.64</td>\n",
              "      <td>0.91</td>\n",
              "      <td>-1.53</td>\n",
              "      <td>-0.02</td>\n",
              "      <td>0.89</td>\n",
              "      <td>-0.28</td>\n",
              "      <td>1</td>\n",
              "    </tr>\n",
              "    <tr>\n",
              "      <th>255661</th>\n",
              "      <td>0.04</td>\n",
              "      <td>-7.33</td>\n",
              "      <td>-2.98</td>\n",
              "      <td>-0.80</td>\n",
              "      <td>0.77</td>\n",
              "      <td>0.36</td>\n",
              "      <td>-1.32</td>\n",
              "      <td>1.40</td>\n",
              "      <td>-0.61</td>\n",
              "      <td>2.02</td>\n",
              "      <td>...</td>\n",
              "      <td>0.02</td>\n",
              "      <td>-0.52</td>\n",
              "      <td>-0.20</td>\n",
              "      <td>-0.53</td>\n",
              "      <td>-0.61</td>\n",
              "      <td>-0.54</td>\n",
              "      <td>-0.09</td>\n",
              "      <td>0.40</td>\n",
              "      <td>-0.12</td>\n",
              "      <td>1</td>\n",
              "    </tr>\n",
              "    <tr>\n",
              "      <th>28425</th>\n",
              "      <td>-0.01</td>\n",
              "      <td>1.82</td>\n",
              "      <td>2.50</td>\n",
              "      <td>-0.54</td>\n",
              "      <td>0.79</td>\n",
              "      <td>0.28</td>\n",
              "      <td>0.02</td>\n",
              "      <td>-0.68</td>\n",
              "      <td>0.06</td>\n",
              "      <td>-1.45</td>\n",
              "      <td>...</td>\n",
              "      <td>-0.41</td>\n",
              "      <td>-0.56</td>\n",
              "      <td>1.33</td>\n",
              "      <td>-2.71</td>\n",
              "      <td>-0.06</td>\n",
              "      <td>1.55</td>\n",
              "      <td>-0.20</td>\n",
              "      <td>-0.21</td>\n",
              "      <td>0.08</td>\n",
              "      <td>0</td>\n",
              "    </tr>\n",
              "    <tr>\n",
              "      <th>72259</th>\n",
              "      <td>-0.01</td>\n",
              "      <td>-1.48</td>\n",
              "      <td>1.39</td>\n",
              "      <td>-0.01</td>\n",
              "      <td>0.79</td>\n",
              "      <td>0.21</td>\n",
              "      <td>0.02</td>\n",
              "      <td>0.83</td>\n",
              "      <td>-0.34</td>\n",
              "      <td>0.88</td>\n",
              "      <td>...</td>\n",
              "      <td>0.47</td>\n",
              "      <td>0.11</td>\n",
              "      <td>-0.04</td>\n",
              "      <td>-1.06</td>\n",
              "      <td>-0.45</td>\n",
              "      <td>-0.84</td>\n",
              "      <td>-0.76</td>\n",
              "      <td>-0.99</td>\n",
              "      <td>0.30</td>\n",
              "      <td>1</td>\n",
              "    </tr>\n",
              "    <tr>\n",
              "      <th>365941</th>\n",
              "      <td>-0.02</td>\n",
              "      <td>1.95</td>\n",
              "      <td>2.87</td>\n",
              "      <td>-0.26</td>\n",
              "      <td>-0.10</td>\n",
              "      <td>0.10</td>\n",
              "      <td>0.09</td>\n",
              "      <td>-0.67</td>\n",
              "      <td>0.54</td>\n",
              "      <td>-0.92</td>\n",
              "      <td>...</td>\n",
              "      <td>0.05</td>\n",
              "      <td>0.05</td>\n",
              "      <td>-0.76</td>\n",
              "      <td>-0.65</td>\n",
              "      <td>-0.15</td>\n",
              "      <td>1.68</td>\n",
              "      <td>-3.72</td>\n",
              "      <td>0.11</td>\n",
              "      <td>-0.00</td>\n",
              "      <td>0</td>\n",
              "    </tr>\n",
              "  </tbody>\n",
              "</table>\n",
              "<p>5 rows × 89 columns</p>\n",
              "</div>"
            ],
            "text/plain": [
              "           0     1     2     3     4     5     6     7     8     9  ...    79  \\\n",
              "723304 -0.00 -2.43 -2.29 -0.81  0.98  0.49  0.32  0.90 -0.60  0.83  ... -0.04   \n",
              "255661  0.04 -7.33 -2.98 -0.80  0.77  0.36 -1.32  1.40 -0.61  2.02  ...  0.02   \n",
              "28425  -0.01  1.82  2.50 -0.54  0.79  0.28  0.02 -0.68  0.06 -1.45  ... -0.41   \n",
              "72259  -0.01 -1.48  1.39 -0.01  0.79  0.21  0.02  0.83 -0.34  0.88  ...  0.47   \n",
              "365941 -0.02  1.95  2.87 -0.26 -0.10  0.10  0.09 -0.67  0.54 -0.92  ...  0.05   \n",
              "\n",
              "          80    81    82    83    84    85    86    87  convert  \n",
              "723304  0.07  0.06 -0.64  0.91 -1.53 -0.02  0.89 -0.28        1  \n",
              "255661 -0.52 -0.20 -0.53 -0.61 -0.54 -0.09  0.40 -0.12        1  \n",
              "28425  -0.56  1.33 -2.71 -0.06  1.55 -0.20 -0.21  0.08        0  \n",
              "72259   0.11 -0.04 -1.06 -0.45 -0.84 -0.76 -0.99  0.30        1  \n",
              "365941  0.05 -0.76 -0.65 -0.15  1.68 -3.72  0.11 -0.00        0  \n",
              "\n",
              "[5 rows x 89 columns]"
            ]
          },
          "metadata": {
            "tags": []
          },
          "execution_count": 9
        }
      ]
    },
    {
      "cell_type": "code",
      "metadata": {
        "id": "lr_A9upkJxmg",
        "outputId": "d1e9880d-68dd-43f7-e2f3-c2a5a9fc4e50"
      },
      "source": [
        "plt.figure(figsize=(5,5))\n",
        "ax = sns.countplot(x='convert', data=new_df)\n",
        "\n",
        "for p in ax.patches:\n",
        "        ax.annotate('{}'.format(p.get_height()), (p.get_x()+0.1, p.get_height()+50))\n"
      ],
      "execution_count": null,
      "outputs": [
        {
          "output_type": "display_data",
          "data": {
            "image/png": "[encoded data removed]",
            "text/plain": [
              "<Figure size 360x360 with 1 Axes>"
            ]
          },
          "metadata": {
            "tags": [],
            "needs_background": "light"
          }
        }
      ]
    },
    {
      "cell_type": "markdown",
      "metadata": {
        "id": "1L_JiAKOTaW1"
      },
      "source": [
        "> Here we ca see that no both the classes are balanced."
      ]
    },
    {
      "cell_type": "code",
      "metadata": {
        "id": "0vwnHXhsPJaa"
      },
      "source": [
        "X = new_df.drop(['convert'], axis=1)\n",
        "y = new_df['convert']"
      ],
      "execution_count": null,
      "outputs": []
    },
    {
      "cell_type": "markdown",
      "metadata": {
        "id": "ruwSOQaoTaW7"
      },
      "source": [
        "> Since we have a very huge dataset with a large no of features, so in order to precise th results there is need of dimentionality reduction. For that we are using here PCA."
      ]
    },
    {
      "cell_type": "code",
      "metadata": {
        "id": "oF4WYBPEqqVw",
        "outputId": "7636fdb0-df81-42ae-99b4-a01a310befad"
      },
      "source": [
        "from sklearn.decomposition import PCA \n",
        "pca = PCA(n_components=10) \n",
        "X = pd.DataFrame(pca.fit_transform(X))\n",
        "X.head()"
      ],
      "execution_count": null,
      "outputs": [
        {
          "output_type": "execute_result",
          "data": {
            "text/html": [
              "<div>\n",
              "<style scoped>\n",
              "    .dataframe tbody tr th:only-of-type {\n",
              "        vertical-align: middle;\n",
              "    }\n",
              "\n",
              "    .dataframe tbody tr th {\n",
              "        vertical-align: top;\n",
              "    }\n",
              "\n",
              "    .dataframe thead th {\n",
              "        text-align: right;\n",
              "    }\n",
              "</style>\n",
              "<table border=\"1\" class=\"dataframe\">\n",
              "  <thead>\n",
              "    <tr style=\"text-align: right;\">\n",
              "      <th></th>\n",
              "      <th>0</th>\n",
              "      <th>1</th>\n",
              "      <th>2</th>\n",
              "      <th>3</th>\n",
              "      <th>4</th>\n",
              "      <th>5</th>\n",
              "      <th>6</th>\n",
              "      <th>7</th>\n",
              "      <th>8</th>\n",
              "      <th>9</th>\n",
              "    </tr>\n",
              "  </thead>\n",
              "  <tbody>\n",
              "    <tr>\n",
              "      <th>0</th>\n",
              "      <td>-2.023919</td>\n",
              "      <td>0.213377</td>\n",
              "      <td>1.526578</td>\n",
              "      <td>-0.752428</td>\n",
              "      <td>-0.428215</td>\n",
              "      <td>-1.228545</td>\n",
              "      <td>-1.037803</td>\n",
              "      <td>0.949632</td>\n",
              "      <td>0.400397</td>\n",
              "      <td>-0.096623</td>\n",
              "    </tr>\n",
              "    <tr>\n",
              "      <th>1</th>\n",
              "      <td>-6.964788</td>\n",
              "      <td>0.681679</td>\n",
              "      <td>1.582923</td>\n",
              "      <td>-0.974278</td>\n",
              "      <td>-0.571941</td>\n",
              "      <td>-1.586572</td>\n",
              "      <td>-2.795678</td>\n",
              "      <td>0.488087</td>\n",
              "      <td>-0.449341</td>\n",
              "      <td>1.333902</td>\n",
              "    </tr>\n",
              "    <tr>\n",
              "      <th>2</th>\n",
              "      <td>2.891359</td>\n",
              "      <td>-0.416669</td>\n",
              "      <td>-2.486776</td>\n",
              "      <td>-0.825003</td>\n",
              "      <td>0.455305</td>\n",
              "      <td>-0.005922</td>\n",
              "      <td>2.148930</td>\n",
              "      <td>0.580026</td>\n",
              "      <td>0.704117</td>\n",
              "      <td>-0.602004</td>\n",
              "    </tr>\n",
              "    <tr>\n",
              "      <th>3</th>\n",
              "      <td>-0.434614</td>\n",
              "      <td>-0.042212</td>\n",
              "      <td>-1.868093</td>\n",
              "      <td>-0.427181</td>\n",
              "      <td>0.012641</td>\n",
              "      <td>-0.858465</td>\n",
              "      <td>-1.663698</td>\n",
              "      <td>-0.028006</td>\n",
              "      <td>0.198378</td>\n",
              "      <td>-0.343703</td>\n",
              "    </tr>\n",
              "    <tr>\n",
              "      <th>4</th>\n",
              "      <td>3.045903</td>\n",
              "      <td>-0.442342</td>\n",
              "      <td>-2.698484</td>\n",
              "      <td>-0.514353</td>\n",
              "      <td>0.251681</td>\n",
              "      <td>0.505057</td>\n",
              "      <td>1.258160</td>\n",
              "      <td>-0.464391</td>\n",
              "      <td>0.232628</td>\n",
              "      <td>0.032238</td>\n",
              "    </tr>\n",
              "  </tbody>\n",
              "</table>\n",
              "</div>"
            ],
            "text/plain": [
              "          0         1         2         3         4         5         6  \\\n",
              "0 -2.023919  0.213377  1.526578 -0.752428 -0.428215 -1.228545 -1.037803   \n",
              "1 -6.964788  0.681679  1.582923 -0.974278 -0.571941 -1.586572 -2.795678   \n",
              "2  2.891359 -0.416669 -2.486776 -0.825003  0.455305 -0.005922  2.148930   \n",
              "3 -0.434614 -0.042212 -1.868093 -0.427181  0.012641 -0.858465 -1.663698   \n",
              "4  3.045903 -0.442342 -2.698484 -0.514353  0.251681  0.505057  1.258160   \n",
              "\n",
              "          7         8         9  \n",
              "0  0.949632  0.400397 -0.096623  \n",
              "1  0.488087 -0.449341  1.333902  \n",
              "2  0.580026  0.704117 -0.602004  \n",
              "3 -0.028006  0.198378 -0.343703  \n",
              "4 -0.464391  0.232628  0.032238  "
            ]
          },
          "metadata": {
            "tags": []
          },
          "execution_count": 12
        }
      ]
    },
    {
      "cell_type": "code",
      "metadata": {
        "id": "DL7kRp0NqyOA",
        "outputId": "6d7058f1-3714-4247-c713-1687aaa7dd0d"
      },
      "source": [
        "pca.explained_variance_ratio_ "
      ],
      "execution_count": null,
      "outputs": [
        {
          "output_type": "execute_result",
          "data": {
            "text/plain": [
              "array([0.09753439, 0.08677011, 0.05376632, 0.04486538, 0.03994616,\n",
              "       0.02530382, 0.02462134, 0.0222823 , 0.02174146, 0.02043742])"
            ]
          },
          "metadata": {
            "tags": []
          },
          "execution_count": 13
        }
      ]
    },
    {
      "cell_type": "code",
      "metadata": {
        "id": "iV49ozVrPYnR"
      },
      "source": [
        "#now lets split data in test train pairs\n",
        "\n",
        "from sklearn.model_selection import train_test_split\n",
        "\n",
        "X_train, X_test, y_train, y_test = train_test_split(X, y, test_size = 0.1)"
      ],
      "execution_count": null,
      "outputs": []
    },
    {
      "cell_type": "code",
      "metadata": {
        "id": "cKu5ezuSOlwT",
        "outputId": "d9d52f32-6bc8-452c-e4f1-17fa75b6272a"
      },
      "source": [
        "from sklearn.tree import DecisionTreeClassifier\n",
        "\n",
        "clf = DecisionTreeClassifier()\n",
        "clf.get_params()"
      ],
      "execution_count": null,
      "outputs": [
        {
          "output_type": "execute_result",
          "data": {
            "text/plain": [
              "{'class_weight': None,\n",
              " 'criterion': 'gini',\n",
              " 'max_depth': None,\n",
              " 'max_features': None,\n",
              " 'max_leaf_nodes': None,\n",
              " 'min_impurity_decrease': 0.0,\n",
              " 'min_impurity_split': None,\n",
              " 'min_samples_leaf': 1,\n",
              " 'min_samples_split': 2,\n",
              " 'min_weight_fraction_leaf': 0.0,\n",
              " 'presort': False,\n",
              " 'random_state': None,\n",
              " 'splitter': 'best'}"
            ]
          },
          "metadata": {
            "tags": []
          },
          "execution_count": 15
        }
      ]
    },
    {
      "cell_type": "markdown",
      "metadata": {
        "id": "6ewcDRxnTaXU"
      },
      "source": [
        "> In order to get better results lets tune the some specific Hyperparameters using GridSearch"
      ]
    },
    {
      "cell_type": "code",
      "metadata": {
        "id": "46vbXOz8TaXV"
      },
      "source": [
        "from sklearn.model_selection import GridSearchCV\n",
        "\n",
        "# Number of features to consider at every split \n",
        "max_features = ['auto', 'sqrt', 'log2']\n",
        "# Maximum number of levels in tree\n",
        "max_depth = [int(x) for x in np.linspace(10, 110, num = 11)]\n",
        "max_depth.append(None)\n",
        "# Minimum number of samples required to split a node\n",
        "min_samples_split = [2, 5, 10]\n",
        "# Minimum number of samples required at each leaf node\n",
        "min_samples_leaf = [1, 2, 4]\n",
        "# Criterion used while gormin tree\n",
        "criterion = ['gini', 'entropy']\n",
        "# The strategy used to choose the split at each node\n",
        "splitter = ['best', 'random']\n",
        "\n",
        "# Create the random grid\n",
        "grid = {'max_features': max_features,\n",
        "        'max_depth': max_depth,\n",
        "        'min_samples_split': min_samples_split,\n",
        "        'min_samples_leaf': min_samples_leaf,\n",
        "        'criterion': criterion,\n",
        "        'splitter': splitter}"
      ],
      "execution_count": null,
      "outputs": []
    },
    {
      "cell_type": "code",
      "metadata": {
        "scrolled": false,
        "id": "ItIUsRzDTaXZ"
      },
      "source": [
        "clf = GridSearchCV( estimator = DecisionTreeClassifier(),  param_grid = grid, cv = 5)\n",
        "clf = clf.fit(X_train, y_train)"
      ],
      "execution_count": null,
      "outputs": []
    },
    {
      "cell_type": "code",
      "metadata": {
        "id": "TwR9w5bKPFCe",
        "outputId": "0e8f64e1-8a27-42b0-f8a9-4a373a06f5f7"
      },
      "source": [
        "y_pred = clf.predict(X_test)\n",
        "\n",
        "pred_df = pd.DataFrame({'Actual': y_test, 'Predicted': y_pred})\n",
        "pred_df.head()\n"
      ],
      "execution_count": null,
      "outputs": [
        {
          "output_type": "execute_result",
          "data": {
            "text/html": [
              "<div>\n",
              "<style scoped>\n",
              "    .dataframe tbody tr th:only-of-type {\n",
              "        vertical-align: middle;\n",
              "    }\n",
              "\n",
              "    .dataframe tbody tr th {\n",
              "        vertical-align: top;\n",
              "    }\n",
              "\n",
              "    .dataframe thead th {\n",
              "        text-align: right;\n",
              "    }\n",
              "</style>\n",
              "<table border=\"1\" class=\"dataframe\">\n",
              "  <thead>\n",
              "    <tr style=\"text-align: right;\">\n",
              "      <th></th>\n",
              "      <th>Actual</th>\n",
              "      <th>Predicted</th>\n",
              "    </tr>\n",
              "  </thead>\n",
              "  <tbody>\n",
              "    <tr>\n",
              "      <th>634653</th>\n",
              "      <td>0</td>\n",
              "      <td>1</td>\n",
              "    </tr>\n",
              "    <tr>\n",
              "      <th>284728</th>\n",
              "      <td>0</td>\n",
              "      <td>0</td>\n",
              "    </tr>\n",
              "    <tr>\n",
              "      <th>688045</th>\n",
              "      <td>0</td>\n",
              "      <td>0</td>\n",
              "    </tr>\n",
              "    <tr>\n",
              "      <th>191641</th>\n",
              "      <td>0</td>\n",
              "      <td>1</td>\n",
              "    </tr>\n",
              "    <tr>\n",
              "      <th>655347</th>\n",
              "      <td>0</td>\n",
              "      <td>0</td>\n",
              "    </tr>\n",
              "  </tbody>\n",
              "</table>\n",
              "</div>"
            ],
            "text/plain": [
              "        Actual  Predicted\n",
              "634653       0          1\n",
              "284728       0          0\n",
              "688045       0          0\n",
              "191641       0          1\n",
              "655347       0          0"
            ]
          },
          "metadata": {
            "tags": []
          },
          "execution_count": 18
        }
      ]
    },
    {
      "cell_type": "code",
      "metadata": {
        "id": "clNYbQEAQM0s",
        "outputId": "07ec5988-c3f3-4e67-e2f8-1f61c9e93d8f"
      },
      "source": [
        "\n",
        "from sklearn import metrics\n",
        "\n",
        "# Generate the roc curve using scikit-learn.\n",
        "fpr, tpr, thresholds = metrics.roc_curve(y_test, y_pred, pos_label=1)\n",
        "plt.plot(fpr, tpr)\n",
        "plt.xlabel('False positive rate')\n",
        "plt.ylabel('True positive rate')\n",
        "plt.title('ROC curve')\n",
        "plt.show()\n",
        "\n",
        "# Measure the area under the curve.  The closer to 1, the \"better\" the predictions.\n",
        "print(\"AUC of the predictions: {0}\".format(metrics.auc(fpr, tpr)))\n",
        "\n",
        "# Measure the Accuracy Score\n",
        "print(\"Accuracy score of the predictions: {0}\".format(metrics.accuracy_score(y_pred, y_test)))\n"
      ],
      "execution_count": null,
      "outputs": [
        {
          "output_type": "display_data",
          "data": {
            "image/png": "[encoded data removed]",
            "text/plain": [
              "<Figure size 432x288 with 1 Axes>"
            ]
          },
          "metadata": {
            "tags": [],
            "needs_background": "light"
          }
        },
        {
          "output_type": "stream",
          "text": [
            "AUC of the predictions: 0.6133053839364518\n",
            "Accuracy score of the predictions: 0.6204188481675392\n"
          ],
          "name": "stdout"
        }
      ]
    },
    {
      "cell_type": "markdown",
      "metadata": {
        "id": "cDsDJjxVTaXo"
      },
      "source": [
        "> Here we got AUC score 0.61 we is not an excellent score but still acceptable.\n",
        "> So we can say that our model is 62% acuurate ( Accuracy score = 0.62 )."
      ]
    },
    {
      "cell_type": "code",
      "metadata": {
        "id": "3EdztVejxziH"
      },
      "source": [
        ""
      ],
      "execution_count": null,
      "outputs": []
    }
  ]
}