{
  "nbformat": 4,
  "nbformat_minor": 0,
  "metadata": {
    "kernelspec": {
      "display_name": "Python 3",
      "language": "python",
      "name": "python3"
    },
    "language_info": {
      "codemirror_mode": {
        "name": "ipython",
        "version": 3
      },
      "file_extension": ".py",
      "mimetype": "text/x-python",
      "name": "python",
      "nbconvert_exporter": "python",
      "pygments_lexer": "ipython3",
      "version": "3.7.4"
    },
    "colab": {
      "name": "Regression2.ipynb",
      "provenance": [],
      "include_colab_link": true
    }
  },
  "cells": [
    {
      "cell_type": "markdown",
      "metadata": {
        "id": "view-in-github",
        "colab_type": "text"
      },
      "source": [
        "<a href=\"https://colab.research.google.com/github/pushkarjain1009/Random-ML-Problems/blob/master/Regression2.ipynb\" target=\"_parent\"><img src=\"https://colab.research.google.com/assets/colab-badge.svg\" alt=\"Open In Colab\"/></a>"
      ]
    },
    {
      "cell_type": "code",
      "metadata": {
        "id": "fhYl1b9_RMBK",
        "colab_type": "code",
        "colab": {
          "base_uri": "https://localhost:8080/",
          "height": 1000
        },
        "outputId": "087c75b3-50cd-410f-cb65-d3e2626f913c"
      },
      "source": [
        "from PIL import Image\n",
        "from IPython.core.display import Image, display\n",
        "display(Image(\"gradient_descent.png\", width=1000, height=1000))"
      ],
      "execution_count": null,
      "outputs": [
        {
          "output_type": "display_data",
          "data": {
            "image/png": "gradient_descent.png",
            "text/plain": [
              "<IPython.core.display.Image object>"
            ]
          },
          "metadata": {
            "tags": [],
            "image/png": {
              "width": 1000,
              "height": 1000
            }
          }
        }
      ]
    },
    {
      "cell_type": "markdown",
      "metadata": {
        "id": "KaPmarEcRMBT",
        "colab_type": "text"
      },
      "source": [
        "Optimization refers to the task of minimizing/maximizing an objective function f(x) parameterized by x. In machine/deep learning terminology, it’s the task of minimizing the cost/loss function J(w) parameterized by the model’s parameters w ∈ R^d. \n",
        "\n",
        "Optimization algorithms (in case of minimization) have one of the following goals:\n",
        "* Find the global minimum of the objective function. This is feasible if the objective function is convex, i.e. any local minimum is a global minimum.\n",
        "* Find the lowest possible value of the objective function within its neighborhood. That’s usually the case if the objective function is not convex as the case in most deep learning problems.\n",
        "There are three kinds of optimization algorithms:\n",
        "* Optimization algorithm that is not iterative and simply solves for one point.\n",
        "* Optimization algorithm that is iterative in nature and converges to acceptable solution regardless of the parameters initialization such as gradient descent applied to logistic regression.\n",
        "* Optimization algorithm that is iterative in nature and applied to a set of problems that have non-convex cost functions such as neural networks. Therefore, parameters’ initialization plays a critical role in speeding up convergence and achieving lower error rates."
      ]
    },
    {
      "cell_type": "markdown",
      "metadata": {
        "id": "gSGIVmsiRMBU",
        "colab_type": "text"
      },
      "source": [
        "## Gradient Descent\n",
        "\n",
        "Gradient descent is an optimization algorithm used to find the values of parameters (coefficients) of a function (f) that minimizes a cost function (cost).\n",
        "\n",
        "Gradient descent is best used when the parameters cannot be calculated analytically (e.g. using linear algebra) and must be searched for by an optimization algorithm.\n",
        "\n",
        "*There is a nice medium blog about the working & different versions of gradient descent algorithm https://towardsdatascience.com/gradient-descent-algorithm-and-its-variants-10f652806a3\n"
      ]
    },
    {
      "cell_type": "markdown",
      "metadata": {
        "id": "cJD58gE9RMBW",
        "colab_type": "text"
      },
      "source": [
        "### Exercise"
      ]
    },
    {
      "cell_type": "markdown",
      "metadata": {
        "id": "nk5c27_BRMBX",
        "colab_type": "text"
      },
      "source": [
        "### Define an array of 2 bit binary table"
      ]
    },
    {
      "cell_type": "code",
      "metadata": {
        "id": "SgUZ1MaVRpZC",
        "colab_type": "code",
        "colab": {}
      },
      "source": [
        "import random\n",
        "import numpy as np\n",
        "import matplotlib.pyplot as plt"
      ],
      "execution_count": null,
      "outputs": []
    },
    {
      "cell_type": "code",
      "metadata": {
        "id": "XjFJZ93IRMBZ",
        "colab_type": "code",
        "colab": {
          "base_uri": "https://localhost:8080/",
          "height": 34
        },
        "outputId": "b717bff2-6bf0-4317-a54e-90dd9b731c3e"
      },
      "source": [
        "x = np.asarray([[0,0],\n",
        "                [0,1],\n",
        "                [1,0],\n",
        "                [1,1]], dtype=\"float64\")\n",
        "x.shape"
      ],
      "execution_count": null,
      "outputs": [
        {
          "output_type": "execute_result",
          "data": {
            "text/plain": [
              "(4, 2)"
            ]
          },
          "metadata": {
            "tags": []
          },
          "execution_count": 63
        }
      ]
    },
    {
      "cell_type": "markdown",
      "metadata": {
        "id": "9Ikx0PyPRMBh",
        "colab_type": "text"
      },
      "source": [
        "### Define a variable y conatining the  \"or\" operation result of x matrix columns"
      ]
    },
    {
      "cell_type": "code",
      "metadata": {
        "id": "-uwjExgsRMBj",
        "colab_type": "code",
        "colab": {}
      },
      "source": [
        "y = np.asarray([[0],\n",
        "                [1],\n",
        "                [1],\n",
        "                [1]], dtype=\"float64\")"
      ],
      "execution_count": null,
      "outputs": []
    },
    {
      "cell_type": "markdown",
      "metadata": {
        "id": "hPa_QS4NRMBt",
        "colab_type": "text"
      },
      "source": [
        "### Define a randomly intialized weight matrix of dimension 3*1"
      ]
    },
    {
      "cell_type": "code",
      "metadata": {
        "id": "aswiBK5XRMBu",
        "colab_type": "code",
        "colab": {
          "base_uri": "https://localhost:8080/",
          "height": 68
        },
        "outputId": "8b711dde-c31d-4434-e734-d3178ec6c2d5"
      },
      "source": [
        "wt = np.random.uniform(low=0., high=1., size=(3,1))\n",
        "wt"
      ],
      "execution_count": null,
      "outputs": [
        {
          "output_type": "execute_result",
          "data": {
            "text/plain": [
              "array([[0.4001994 ],\n",
              "       [0.68384131],\n",
              "       [0.27336509]])"
            ]
          },
          "metadata": {
            "tags": []
          },
          "execution_count": 65
        }
      ]
    },
    {
      "cell_type": "markdown",
      "metadata": {
        "id": "YYnklZ0eRMB1",
        "colab_type": "text"
      },
      "source": [
        "### Define the Learning Rate"
      ]
    },
    {
      "cell_type": "code",
      "metadata": {
        "id": "LHbHAeKrRMB3",
        "colab_type": "code",
        "colab": {}
      },
      "source": [
        "learning_rate = 0.001"
      ],
      "execution_count": null,
      "outputs": []
    },
    {
      "cell_type": "markdown",
      "metadata": {
        "id": "NBuQ7b4FRMB-",
        "colab_type": "text"
      },
      "source": [
        "###  Define gradient descent function"
      ]
    },
    {
      "cell_type": "code",
      "metadata": {
        "id": "HtGiAAEZRMB_",
        "colab_type": "code",
        "colab": {
          "base_uri": "https://localhost:8080/",
          "height": 51
        },
        "outputId": "2d273b5b-29db-49d7-9a05-fb8a28d2d455"
      },
      "source": [
        "m = wt[:2]    # m be the slope\n",
        "c = wt[2]     # c be the bias\n",
        "\n",
        "cost_func_vals = []\n",
        "for i in range(10):\n",
        "  y_pred = np.add(np.matmul(x,m), c)\n",
        "  cost_func_vals.append(0.125*sum((y_pred - y)**2))  # Here Cost Function used is Mean squared error\n",
        "  m_ = np.asarray([[0], [0]], dtype=\"float64\")       # m_ will contain the value of derivative of costfuntion with respesct to m(slope) \n",
        "  c_ = np.asarray([0], dtype=\"float64\")              # c_ will contain the value of derivative of costfuntion with respesct to c(bias)\n",
        "  for j in range(4):\n",
        "    m_ += -0.5 * np.matmul(np.asarray([x[j]]).T, np.asarray([np.subtract(y_pred[j], y[j])])) \n",
        "    c_ += -0.5 * np.subtract(y_pred[j], y[j])\n",
        "  m -= learning_rate * m_                            # Updated Slope\n",
        "  c -= learning_rate * c_                            # Updated constant\n",
        "print(m, c)"
      ],
      "execution_count": null,
      "outputs": [
        {
          "output_type": "stream",
          "text": [
            "[[0.40036447]\n",
            " [0.68542778]] [0.27469251]\n"
          ],
          "name": "stdout"
        }
      ]
    },
    {
      "cell_type": "markdown",
      "metadata": {
        "id": "WdYyhaqtRMCJ",
        "colab_type": "text"
      },
      "source": [
        "### Plot the Cost function"
      ]
    },
    {
      "cell_type": "code",
      "metadata": {
        "id": "oXajLMcSRMCK",
        "colab_type": "code",
        "colab": {
          "base_uri": "https://localhost:8080/",
          "height": 279
        },
        "outputId": "d8fa4f44-5b1b-4d67-ef61-739e6a6ffdef"
      },
      "source": [
        "plt.plot([i for i in range(1 ,11)], cost_func_vals)\n",
        "plt.xlabel(\"Epoches\")\n",
        "plt.ylabel(\"Cost Function\")\n",
        "plt.show()"
      ],
      "execution_count": null,
      "outputs": [
        {
          "output_type": "display_data",
          "data": {
            "image/png": "[encoded data removed]",
            "text/plain": [
              "<Figure size 432x288 with 1 Axes>"
            ]
          },
          "metadata": {
            "tags": [],
            "needs_background": "light"
          }
        }
      ]
    },
    {
      "cell_type": "markdown",
      "metadata": {
        "id": "6hmemRTaRMCR",
        "colab_type": "text"
      },
      "source": [
        "### plot prediction vs target"
      ]
    },
    {
      "cell_type": "code",
      "metadata": {
        "id": "dtEJEvk1RMCS",
        "colab_type": "code",
        "colab": {
          "base_uri": "https://localhost:8080/",
          "height": 85
        },
        "outputId": "399c57ec-6e41-42d9-a5f4-4e7b463fe8c2"
      },
      "source": [
        "#final prediction \n",
        "y_pred = np.add(np.matmul(x,m), c)\n",
        "y_pred"
      ],
      "execution_count": null,
      "outputs": [
        {
          "output_type": "execute_result",
          "data": {
            "text/plain": [
              "array([[0.27469251],\n",
              "       [0.96012029],\n",
              "       [0.67505698],\n",
              "       [1.36048476]])"
            ]
          },
          "metadata": {
            "tags": []
          },
          "execution_count": 69
        }
      ]
    },
    {
      "cell_type": "code",
      "metadata": {
        "id": "ywj5jxKduI5q",
        "colab_type": "code",
        "colab": {
          "base_uri": "https://localhost:8080/",
          "height": 279
        },
        "outputId": "f5669858-7b04-47ba-b798-27caa1f90c46"
      },
      "source": [
        "plt.plot(y_pred, y, 'ro')\n",
        "plt.xlabel(\"Prediction\")\n",
        "plt.ylabel(\"Target\")\n",
        "plt.show()"
      ],
      "execution_count": null,
      "outputs": [
        {
          "output_type": "display_data",
          "data": {
            "image/png": "[encoded data removed]",
            "text/plain": [
              "<Figure size 432x288 with 1 Axes>"
            ]
          },
          "metadata": {
            "tags": [],
            "needs_background": "light"
          }
        }
      ]
    },
    {
      "cell_type": "code",
      "metadata": {
        "id": "SOxuqXzQ1agY",
        "colab_type": "code",
        "colab": {}
      },
      "source": [
        ""
      ],
      "execution_count": null,
      "outputs": []
    }
  ]
}